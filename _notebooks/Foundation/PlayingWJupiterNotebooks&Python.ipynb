{
 "cells": [
  {
   "cell_type": "markdown",
   "metadata": {},
   "source": [
    "---\n",
    "layout: post\n",
    "title: Playing With Jupyter Notebooks and Python\n",
    "description: Jupyter notebooks and Python \n",
    "courses: { csa: {week: 1} }\n",
    "comments: true\n",
    "sticky_rank: 1\n",
    "---"
   ]
  },
  {
   "cell_type": "code",
   "execution_count": 5,
   "metadata": {},
   "outputs": [
    {
     "name": "stdout",
     "output_type": "stream",
     "text": [
      "[sudo] password for adityasamavedam: \n"
     ]
    },
    {
     "ename": "ModuleNotFoundError",
     "evalue": "No module named 'wikipediaapi'",
     "output_type": "error",
     "traceback": [
      "\u001b[0;31m---------------------------------------------------------------------------\u001b[0m",
      "\u001b[0;31mModuleNotFoundError\u001b[0m                       Traceback (most recent call last)",
      "Cell \u001b[0;32mIn[5], line 2\u001b[0m\n\u001b[1;32m      1\u001b[0m get_ipython()\u001b[38;5;241m.\u001b[39msystem(\u001b[38;5;124m'\u001b[39m\u001b[38;5;124msudo apt install wikipedia\u001b[39m\u001b[38;5;124m'\u001b[39m)\n\u001b[0;32m----> 2\u001b[0m \u001b[38;5;28;01mimport\u001b[39;00m \u001b[38;5;21;01mwikipediaapi\u001b[39;00m\n\u001b[1;32m      3\u001b[0m \u001b[38;5;28;01mfrom\u001b[39;00m \u001b[38;5;21;01mIPython\u001b[39;00m\u001b[38;5;21;01m.\u001b[39;00m\u001b[38;5;21;01mdisplay\u001b[39;00m \u001b[38;5;28;01mimport\u001b[39;00m display, Markdown\n\u001b[1;32m      5\u001b[0m \u001b[38;5;28mprint\u001b[39m(\u001b[38;5;124m\"\u001b[39m\u001b[38;5;124mWelcome to Wikipedia!\u001b[39m\u001b[38;5;124m\"\u001b[39m)\n",
      "\u001b[0;31mModuleNotFoundError\u001b[0m: No module named 'wikipediaapi'"
     ]
    }
   ],
   "source": [
    "# !sudo apt install wikipedia\n",
    "# import wikipediaapi\n",
    "# from IPython.display import display, Markdown\n",
    "\n",
    "# print(\"Welcome to Wikipedia!\")\n",
    "# search_history = []\n",
    "# condition = True\n",
    "# wiki = wikipediaapi.Wikipedia('en')\n",
    "\n",
    "# while condition:\n",
    "#     search_input = input(\"Enter a search or type 'quit' to exit: \")\n",
    "    \n",
    "#     if search_input.lower() != \"quit\":\n",
    "#         page = wiki.page(search_input)\n",
    "        \n",
    "#         if page.exists():\n",
    "#             print(f\"\\nSummary for '{search_input}':\\n\")\n",
    "#             summary = page.summary\n",
    "#             display(Markdown(summary))  # Jupyter display\n",
    "#             search_history.append(search_input)\n",
    "#         else:\n",
    "#             print(\"Page not found. Please try a different search.\")\n",
    "    \n",
    "#     else:\n",
    "#         condition = False\n",
    "#         print(f\"\\nHere is your search history: {search_history}\")\n",
    "#         choice = input(\"Would you like to clear your search history? [y/n]: \")\n",
    "        \n",
    "#         if choice.lower() == \"y\":\n",
    "#             search_history.clear()\n",
    "#             print(\"Search history cleared!\")\n",
    "        \n",
    "#         elif choice.lower() == \"n\":\n",
    "#             print(\"Ok, no problem.\")\n",
    "        \n",
    "#         else:\n",
    "#             print(\"Invalid choice entered.\")\n",
    "        \n",
    "#         print(\"Thank you for visiting Wikipedia! Come back soon!\")"
   ]
  }
 ],
 "metadata": {
  "kernelspec": {
   "display_name": "Python 3",
   "language": "python",
   "name": "python3"
  },
  "language_info": {
   "codemirror_mode": {
    "name": "ipython",
    "version": 3
   },
   "file_extension": ".py",
   "mimetype": "text/x-python",
   "name": "python",
   "nbconvert_exporter": "python",
   "pygments_lexer": "ipython3",
   "version": "3.12.3"
  }
 },
 "nbformat": 4,
 "nbformat_minor": 2
}
